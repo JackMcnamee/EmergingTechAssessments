{
 "cells": [
  {
   "cell_type": "markdown",
   "metadata": {},
   "source": [
    "# Task Two\n",
    "***"
   ]
  },
  {
   "cell_type": "markdown",
   "metadata": {},
   "source": [
    "Here is my solution to Task 2 of the Tasks Assessment. The author is Jack McNamee (G00359656@gmit.ie)"
   ]
  },
  {
   "cell_type": "markdown",
   "metadata": {},
   "source": [
    "### Task: Calculate the Chi-Squared value and the associated p value\n",
    "***\n",
    "The Chi-Squared test [1] is used to determine if there is a difference between the expected frequencies and the observed frequencies of a contingency table.\n",
    "\n",
    "[1] https://en.wikipedia.org/w/index.php?title=Chi-squared_test&oldid=983024096\n",
    "***"
   ]
  },
  {
   "cell_type": "code",
   "execution_count": 1,
   "metadata": {},
   "outputs": [],
   "source": [
    "from scipy.stats import chi2_contingency\n",
    "import numpy as np\n",
    "import pandas as pd"
   ]
  },
  {
   "cell_type": "code",
   "execution_count": 2,
   "metadata": {},
   "outputs": [],
   "source": [
    "# create the contingency table\n",
    "cols = ['A', 'B', 'C', 'D']\n",
    "table = pd.DataFrame(columns=cols)"
   ]
  },
  {
   "cell_type": "code",
   "execution_count": 3,
   "metadata": {},
   "outputs": [],
   "source": [
    "table.loc['White Collar'] = [90, 60, 104, 95]\n",
    "table.loc['Blue Collar'] = [30, 50, 51, 20]\n",
    "table.loc['No Collar'] = [30, 40, 45, 35]"
   ]
  },
  {
   "cell_type": "markdown",
   "metadata": {},
   "source": [
    "### Table\n",
    "***"
   ]
  },
  {
   "cell_type": "code",
   "execution_count": 4,
   "metadata": {},
   "outputs": [
    {
     "name": "stdout",
     "output_type": "stream",
     "text": [
      "               A   B    C   D\n",
      "White Collar  90  60  104  95\n",
      "Blue Collar   30  50   51  20\n",
      "No Collar     30  40   45  35\n"
     ]
    }
   ],
   "source": [
    "print(table)"
   ]
  },
  {
   "cell_type": "code",
   "execution_count": 5,
   "metadata": {},
   "outputs": [],
   "source": [
    "# convert table to an array\n",
    "data = np.array(table)"
   ]
  },
  {
   "cell_type": "code",
   "execution_count": 6,
   "metadata": {},
   "outputs": [],
   "source": [
    "# calculate the chi-squared value and the p value using the chi-squared test\n",
    "chisquared_value, p, dof, expected = chi2_contingency(data) "
   ]
  },
  {
   "cell_type": "markdown",
   "metadata": {},
   "source": [
    "### Values\n",
    "***"
   ]
  },
  {
   "cell_type": "code",
   "execution_count": 7,
   "metadata": {},
   "outputs": [
    {
     "name": "stdout",
     "output_type": "stream",
     "text": [
      "Chi-Squared value: 24.6\n"
     ]
    }
   ],
   "source": [
    "print('Chi-Squared value: %.1f' % chisquared_value)"
   ]
  },
  {
   "cell_type": "code",
   "execution_count": 8,
   "metadata": {},
   "outputs": [
    {
     "name": "stdout",
     "output_type": "stream",
     "text": [
      "P value: 0.0004098425861096696\n"
     ]
    }
   ],
   "source": [
    "print('P value:', p)"
   ]
  },
  {
   "cell_type": "markdown",
   "metadata": {},
   "source": [
    "### Analysis\n",
    "***"
   ]
  },
  {
   "cell_type": "markdown",
   "metadata": {},
   "source": [
    "A Statistical Hypothesis test [2] can be set up to determine whether or not there is a relationship between the area, (A, B, C, D) and whether a resident's occupation is \"White Collar\", \"Blue Collar\" or \"No Collar\". The Chi-Square test has both a null hypothesis and an alternative hypothesis.\n",
    "\n",
    "Null Hypothesis: There is no relationship between where a resident lives and their occupation.\n",
    "\n",
    "Alternative Hypothesis: There is a relationship between where a resident lives and their occupation.\n",
    "\n",
    "There will also be a Significance Level [3] of 0.05 or 5%. This is the probability of rejecting the null hypothesis when it is true.\n",
    "\n",
    "As the p-value, 0.0004098425861096696, is less than the Significance Level, we can say that there is a relationship between where a resident lives and their occupation.\n",
    "\n",
    "[2] https://statisticsbyjim.com/hypothesis-testing/chi-square-test-independence-example\n",
    "\n",
    "[3] https://statisticsbyjim.com/glossary/significance-level/\n"
   ]
  }
 ],
 "metadata": {
  "kernelspec": {
   "display_name": "Python 3",
   "language": "python",
   "name": "python3"
  },
  "language_info": {
   "codemirror_mode": {
    "name": "ipython",
    "version": 3
   },
   "file_extension": ".py",
   "mimetype": "text/x-python",
   "name": "python",
   "nbconvert_exporter": "python",
   "pygments_lexer": "ipython3",
   "version": "3.8.3"
  }
 },
 "nbformat": 4,
 "nbformat_minor": 4
}
