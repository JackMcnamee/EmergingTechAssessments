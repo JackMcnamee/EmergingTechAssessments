{
 "cells": [
  {
   "cell_type": "markdown",
   "metadata": {},
   "source": [
    "## Task 3\n",
    "***"
   ]
  },
  {
   "cell_type": "markdown",
   "metadata": {},
   "source": [
    "Here is my solution to Task 3 of the Tasks Assessment. The author is Jack McNamee (G00359656@gmit.ie)"
   ]
  },
  {
   "cell_type": "markdown",
   "metadata": {},
   "source": [
    "### Task: Comparing Excel Functions for calculating the Standard Deviation, STDEV.p and STDEV.s\n",
    "***"
   ]
  },
  {
   "cell_type": "markdown",
   "metadata": {},
   "source": [
    "The standard deviation of an array of numbers $x$ can be calculated using numpy as\n",
    "\n",
    "$$ np.sqrt(np.sum((x - np.mean(x))**2)/len(x)) $$\n",
    "\n",
    "The STDEV.p function in Excel performs the above calculation and is used on a population data set [1]. A population data set is a set of individuals who share a trait or characteristic, such as \"All students in GMIT\". This can also be used when there is a sample of a larger population, but you are only interested in this sample.\n",
    "\n",
    "The STDEV.s function is used on a sample data set [2] and is calculated using numpy as \n",
    "\n",
    "$$ np.sqrt(np.sum((x - np.mean(x))**2)/(len(x)-1)) $$\n",
    "\n",
    "A sample data set contains a subset of the population. This function is used when you have a sample data set and you want to give an estimate on the entire population that the data set is taken from.\n",
    "\n",
    "[1] https://www.questionpro.com/blog/population-data/ \n",
    "\n",
    "[2] http://mathbitsnotebook.com/Algebra1/StatisticsData/STPopSample.html"
   ]
  },
  {
   "cell_type": "markdown",
   "metadata": {},
   "source": [
    "### Comparing STDEV.p and STDEV.s\n",
    "***"
   ]
  },
  {
   "cell_type": "code",
   "execution_count": 1,
   "metadata": {},
   "outputs": [],
   "source": [
    "import numpy as np"
   ]
  },
  {
   "cell_type": "code",
   "execution_count": 2,
   "metadata": {},
   "outputs": [],
   "source": [
    "# Calculate the standard deviation of x\n",
    "x = [2, 5, 7, 10]"
   ]
  },
  {
   "cell_type": "code",
   "execution_count": 3,
   "metadata": {},
   "outputs": [
    {
     "data": {
      "text/plain": [
       "2.9154759474226504"
      ]
     },
     "execution_count": 3,
     "metadata": {},
     "output_type": "execute_result"
    }
   ],
   "source": [
    "# STDEV.p function\n",
    "np.sqrt(np.sum((x - np.mean(x))**2)/len(x))"
   ]
  },
  {
   "cell_type": "code",
   "execution_count": 4,
   "metadata": {},
   "outputs": [
    {
     "data": {
      "text/plain": [
       "3.366501646120693"
      ]
     },
     "execution_count": 4,
     "metadata": {},
     "output_type": "execute_result"
    }
   ],
   "source": [
    "# STDEV.s function\n",
    "np.sqrt(np.sum((x - np.mean(x))**2)/(len(x)-1))"
   ]
  }
 ],
 "metadata": {
  "kernelspec": {
   "display_name": "Python 3",
   "language": "python",
   "name": "python3"
  },
  "language_info": {
   "codemirror_mode": {
    "name": "ipython",
    "version": 3
   },
   "file_extension": ".py",
   "mimetype": "text/x-python",
   "name": "python",
   "nbconvert_exporter": "python",
   "pygments_lexer": "ipython3",
   "version": "3.8.3"
  }
 },
 "nbformat": 4,
 "nbformat_minor": 4
}
