{
 "cells": [
  {
   "cell_type": "markdown",
   "metadata": {},
   "source": [
    "## Task 3\n",
    "***"
   ]
  },
  {
   "cell_type": "markdown",
   "metadata": {},
   "source": [
    "Here is my solution to Task 3 of the Tasks Assessment. The author is Jack McNamee (G00359656@gmit.ie)"
   ]
  },
  {
   "cell_type": "markdown",
   "metadata": {},
   "source": [
    "### Task: Comparing Excel Functions for calculating the Standard Deviation, STDEV.p and STDEV.s\n",
    "***"
   ]
  },
  {
   "cell_type": "markdown",
   "metadata": {},
   "source": [
    "The standard deviation of an array of numbers $x$ can be calculated using numpy as\n",
    "\n",
    "$$ np.sqrt(np.sum((x - np.mean(x))**2)/len(x)) $$\n",
    "\n",
    "The STDEV.p function in Excel performs the above calculation and is used on a population data set [1]. A population data set is a set of individuals who share a trait or characteristic, such as \"All students in GMIT\". This can also be used when there is a sample of a larger population, but you are only interested in this sample.\n",
    "\n",
    "The STDEV.s function is used on a sample data set [2] and is calculated using numpy as \n",
    "\n",
    "$$ np.sqrt(np.sum((x - np.mean(x))**2)/(len(x)-1)) $$\n",
    "\n",
    "A sample data set contains a subset of the population. This function is used when you have a sample data set and you want to give an estimate on the entire population that the data set is taken from.\n",
    "\n",
    "[1] https://www.questionpro.com/blog/population-data/ \n",
    "\n",
    "[2] http://mathbitsnotebook.com/Algebra1/StatisticsData/STPopSample.html"
   ]
  },
  {
   "cell_type": "markdown",
   "metadata": {},
   "source": [
    "### Comparing STDEV.p and STDEV.s\n",
    "***"
   ]
  },
  {
   "cell_type": "code",
   "execution_count": 1,
   "metadata": {},
   "outputs": [],
   "source": [
    "import numpy as np"
   ]
  },
  {
   "cell_type": "code",
   "execution_count": 2,
   "metadata": {},
   "outputs": [],
   "source": [
    "# Creates the sample array\n",
    "sample = [2, 5, 7, 10, 13, 17, 21, 22, 25, 28, 30, 33, 39, 45, 50]"
   ]
  },
  {
   "cell_type": "code",
   "execution_count": 3,
   "metadata": {},
   "outputs": [
    {
     "data": {
      "text/plain": [
       "14.089554838800108"
      ]
     },
     "execution_count": 3,
     "metadata": {},
     "output_type": "execute_result"
    }
   ],
   "source": [
    "# Using the STDEV.p function on sample\n",
    "np.sqrt(np.sum((sample - np.mean(sample))**2)/len(sample))"
   ]
  },
  {
   "cell_type": "code",
   "execution_count": 4,
   "metadata": {},
   "outputs": [
    {
     "data": {
      "text/plain": [
       "14.584074811082054"
      ]
     },
     "execution_count": 4,
     "metadata": {},
     "output_type": "execute_result"
    }
   ],
   "source": [
    "# Using the STDEV.s function on sample\n",
    "np.sqrt(np.sum((sample - np.mean(sample))**2)/(len(sample)-1))"
   ]
  },
  {
   "cell_type": "markdown",
   "metadata": {},
   "source": [
    "### Analysis\n",
    "***"
   ]
  },
  {
   "cell_type": "markdown",
   "metadata": {},
   "source": [
    "As you can see, there is a slight difference in the results between using STDEV.p and STDEV.s on the array $sample$. Using the STDEV.s function on the sample statistically gives a better estimate for the standard deviation of a population."
   ]
  }
 ],
 "metadata": {
  "kernelspec": {
   "display_name": "Python 3",
   "language": "python",
   "name": "python3"
  },
  "language_info": {
   "codemirror_mode": {
    "name": "ipython",
    "version": 3
   },
   "file_extension": ".py",
   "mimetype": "text/x-python",
   "name": "python",
   "nbconvert_exporter": "python",
   "pygments_lexer": "ipython3",
   "version": "3.8.3"
  }
 },
 "nbformat": 4,
 "nbformat_minor": 4
}
